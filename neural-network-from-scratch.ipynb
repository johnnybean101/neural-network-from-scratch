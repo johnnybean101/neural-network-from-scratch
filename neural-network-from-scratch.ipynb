{
 "cells": [
  {
   "cell_type": "code",
   "execution_count": 5,
   "metadata": {},
   "outputs": [],
   "source": [
    "import numpy as np"
   ]
  },
  {
   "cell_type": "code",
   "execution_count": 98,
   "metadata": {},
   "outputs": [],
   "source": [
    "# Define Activation Functions and Their Derivatives #\n",
    "##################################################################################\n",
    "# relu activation function\n",
    "def relu(z):\n",
    "    return np.maximum(0, z)\n",
    "##################################################################################\n",
    "# relu derivative \n",
    "def reluDerivative(z):\n",
    "    z[z <= 0] = 0\n",
    "    z[z > 0] = 1\n",
    "    return z\n",
    "##################################################################################\n",
    "# sigmoid activation function\n",
    "def sigmoid(z):\n",
    "    return 1 / (1 + np.exp(-z))\n",
    "##################################################################################\n",
    "# sigmoid derivative\n",
    "def sigmoidDerivative(z):\n",
    "    return sigmoid(z) * (1 - sigmoid(z))\n",
    "##################################################################################"
   ]
  },
  {
   "cell_type": "code",
   "execution_count": 112,
   "metadata": {},
   "outputs": [],
   "source": [
    "# Define Neural Network Architecture #\n",
    "##################################################################################\n",
    "# neural network architecture\n",
    "class NeuralNetwork:\n",
    "    # neural network with one hidden layer made of s2 nodes \n",
    "    def __init__(self, x_dim, s2):\n",
    "        self.theta1 = np.random.rand(s2, x_dim + 1)\n",
    "        self.theta2 = np.random.rand(1, s2 + 1)\n",
    "    # perform feed forward and calculate loss    \n",
    "    def feedForward(self, x, y, bias=1):\n",
    "        self.x = np.insert(x, 0, bias)\n",
    "        self.y = y\n",
    "        self.h1_in = np.dot(self.theta1, self.x)\n",
    "        #self.h1_out = np.insert(relu(self.h1_in), 0, bias)\n",
    "        #self.o_in = np.dot(self.theta2, self.h1_out)\n",
    "        #self.o_out = sigmoid(self.o_in) \n",
    "        #self.loss = 0.5 * np.square(self.y - self.o_out)\n",
    "    # perform backpropagation and update weights \n",
    "    def backPropagation(self):\n",
    "        self.delta_theta2 = (self.o_out - self.y) * sigmoidDerivative(self.o_in) * self.h1_out\n",
    "        #delta_theta1 = np.dot((self.o_out - self.y) * sigmoidDerivative(self.o_in) * self.theta2 * reluDerivative(self.h1_in), self.x)\n",
    "        \n",
    "        #self.theta2 -= delta_theta2\n",
    "        #self.theta1 -= delta_theta1\n",
    "##################################################################################"
   ]
  },
  {
   "cell_type": "code",
   "execution_count": 127,
   "metadata": {},
   "outputs": [
    {
     "data": {
      "text/plain": [
       "(array([[0.84562821, 0.88307434, 0.40002976],\n",
       "        [0.88772068, 0.47663586, 0.48354877]]), (1, 3), (2,))"
      ]
     },
     "execution_count": 127,
     "metadata": {},
     "output_type": "execute_result"
    }
   ],
   "source": [
    "NN1 = NeuralNetwork(2, 2)\n",
    "NN1.feedForward(x[0], y[0])\n",
    "NN1.theta1, NN1.theta2.shape, NN1.h1_in.shape"
   ]
  },
  {
   "cell_type": "code",
   "execution_count": 126,
   "metadata": {},
   "outputs": [
    {
     "data": {
      "text/plain": [
       "((3,), 0, array([0.78568191, 0.1552132 ]))"
      ]
     },
     "execution_count": 126,
     "metadata": {},
     "output_type": "execute_result"
    }
   ],
   "source": [
    "NN1.feedForward(x[0], y[0])\n",
    "NN1.x.shape, NN1.y, NN1.h1_in"
   ]
  },
  {
   "cell_type": "code",
   "execution_count": 119,
   "metadata": {},
   "outputs": [
    {
     "data": {
      "text/plain": [
       "(4,)"
      ]
     },
     "execution_count": 119,
     "metadata": {},
     "output_type": "execute_result"
    }
   ],
   "source": [
    "# set labeled inputs\n",
    "x = np.array([[0, 0], [1, 0], [0, 1], [1, 1]])\n",
    "y = np.array([0, 1, 1, 0])\n",
    "y.shape"
   ]
  },
  {
   "cell_type": "code",
   "execution_count": 90,
   "metadata": {},
   "outputs": [],
   "source": [
    "NN1 = NeuralNetwork(2, 2)"
   ]
  },
  {
   "cell_type": "code",
   "execution_count": 91,
   "metadata": {},
   "outputs": [],
   "source": [
    "NN1.feedForward(x[1], y[1])"
   ]
  },
  {
   "cell_type": "code",
   "execution_count": 92,
   "metadata": {},
   "outputs": [
    {
     "data": {
      "text/plain": [
       "array([0.01040457])"
      ]
     },
     "execution_count": 92,
     "metadata": {},
     "output_type": "execute_result"
    }
   ],
   "source": [
    "NN1.loss"
   ]
  },
  {
   "cell_type": "code",
   "execution_count": 93,
   "metadata": {},
   "outputs": [],
   "source": [
    "NN1.backPropagation()"
   ]
  },
  {
   "cell_type": "code",
   "execution_count": 94,
   "metadata": {},
   "outputs": [
    {
     "data": {
      "text/plain": [
       "array([-0.0958924 , -0.14757374])"
      ]
     },
     "execution_count": 94,
     "metadata": {},
     "output_type": "execute_result"
    }
   ],
   "source": [
    "NN1.delta_theta2"
   ]
  },
  {
   "cell_type": "code",
   "execution_count": null,
   "metadata": {},
   "outputs": [],
   "source": []
  }
 ],
 "metadata": {
  "kernelspec": {
   "display_name": "Python 3",
   "language": "python",
   "name": "python3"
  },
  "language_info": {
   "codemirror_mode": {
    "name": "ipython",
    "version": 3
   },
   "file_extension": ".py",
   "mimetype": "text/x-python",
   "name": "python",
   "nbconvert_exporter": "python",
   "pygments_lexer": "ipython3",
   "version": "3.7.4"
  }
 },
 "nbformat": 4,
 "nbformat_minor": 2
}
